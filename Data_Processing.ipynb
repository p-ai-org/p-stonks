{
  "nbformat": 4,
  "nbformat_minor": 0,
  "metadata": {
    "colab": {
      "provenance": [],
      "mount_file_id": "1tOIDSwMn7v7YeRtdziKwpwICE0WZ6Olw",
      "authorship_tag": "ABX9TyMDortjVI/Gni9GACrZ8zOD",
      "include_colab_link": true
    },
    "kernelspec": {
      "name": "python3",
      "display_name": "Python 3"
    },
    "language_info": {
      "name": "python"
    }
  },
  "cells": [
    {
      "cell_type": "markdown",
      "metadata": {
        "id": "view-in-github",
        "colab_type": "text"
      },
      "source": [
        "<a href=\"https://colab.research.google.com/github/p-ai-org/p-stonks/blob/main/Data_Processing.ipynb\" target=\"_parent\"><img src=\"https://colab.research.google.com/assets/colab-badge.svg\" alt=\"Open In Colab\"/></a>"
      ]
    },
    {
      "cell_type": "code",
      "execution_count": null,
      "metadata": {
        "id": "EQ08LTlWX9oY"
      },
      "outputs": [],
      "source": [
        "import numpy as np\n",
        "import pandas as pd\n",
        "import matplotlib.pyplot as plt"
      ]
    },
    {
      "cell_type": "code",
      "source": [
        "!pip install yfinance\n",
        "import yfinance as yf"
      ],
      "metadata": {
        "id": "7OjmcMU7Yrmi"
      },
      "execution_count": null,
      "outputs": []
    },
    {
      "cell_type": "code",
      "source": [
        "from google.colab import drive\n",
        "drive.mount('/content/gdrive')"
      ],
      "metadata": {
        "colab": {
          "base_uri": "https://localhost:8080/"
        },
        "id": "iPWC5yEyaoL9",
        "outputId": "cb8811ea-5750-4a98-b4a3-59ec772fb216"
      },
      "execution_count": null,
      "outputs": [
        {
          "output_type": "stream",
          "name": "stdout",
          "text": [
            "Mounted at /content/gdrive\n"
          ]
        }
      ]
    },
    {
      "cell_type": "code",
      "source": [
        "nasdaq_tickers_df = pd.read_csv(\"gdrive/MyDrive/P-Stonks/Data/nasdaqlisted.txt\", sep=\"|\")\n",
        "nasdaq_tickers = [t for t in nasdaq_tickers_df[\"Symbol\"][:-1].tolist() if not pd.isnull(t)]"
      ],
      "metadata": {
        "id": "xktXPzCbb_g7"
      },
      "execution_count": null,
      "outputs": []
    },
    {
      "cell_type": "code",
      "source": [
        "nasdaq_tickers[:10]"
      ],
      "metadata": {
        "colab": {
          "base_uri": "https://localhost:8080/"
        },
        "id": "hTRk3Y56c0WZ",
        "outputId": "7cbc3fec-5c1f-4311-cffb-aaec7ba4de66"
      },
      "execution_count": null,
      "outputs": [
        {
          "output_type": "execute_result",
          "data": {
            "text/plain": [
              "['AACG',\n",
              " 'AACI',\n",
              " 'AACIU',\n",
              " 'AACIW',\n",
              " 'AADI',\n",
              " 'AADR',\n",
              " 'AAL',\n",
              " 'AAME',\n",
              " 'AAOI',\n",
              " 'AAON']"
            ]
          },
          "metadata": {},
          "execution_count": 24
        }
      ]
    }
  ]
}